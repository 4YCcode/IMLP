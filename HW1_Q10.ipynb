{
 "cells": [
  {
   "cell_type": "code",
   "execution_count": 11,
   "metadata": {},
   "outputs": [],
   "source": [
    "fin_E = open('/Users/yachu/Desktop/IMLP383/Unit01/data/english_list.csv',\"r\",encoding='UTF-8') #檔案開關建議一起寫\n",
    "fin_M = open('/Users/yachu/Desktop/IMLP383/Unit01/data/math_list.csv',\"r\",encoding='UTF-8')\n",
    "lisE=[]\n",
    "lisM=[]\n",
    "name=[]"
   ]
  },
  {
   "cell_type": "code",
   "execution_count": 12,
   "metadata": {},
   "outputs": [
    {
     "name": "stdout",
     "output_type": "stream",
     "text": [
      "['\\ufeff姓名', '廖冠霖', '王力中', '張平舜', '洪婷婷', '林士雨', '陳宗翰', '洪偉珊', '顏又芹', '王亦夏', '姚成華', '潘詠月', '倪浩迪', '郭心怡', '黃政聖', '顏曉雲', '彭曉雯', '葉健仁', '賴軒年', '韓致遠', '陳常芝', '黃佩樺', '林詩虹', '黃心卿', '郭奕全', '游子揚', '杜茜行', '李美一', '陳姿茜', '涂珮瑜', '夏明哲']\n",
      "['英文', '76', '51', '93', '46', '7', '13', '81', '27', '18', '39', '58', '74', '86', '75', '94', '30', '70', '97', '3', '22', '34', '92', '21', '7', '97', '37', '42', '43', '42', '90']\n"
     ]
    }
   ],
   "source": [
    "for line in fin_E.readlines():\n",
    "    #print(line)\n",
    "    line = line.strip().split(\",\") #逐行(row)讀取，遇道‘，’就切割\n",
    "    #print(line)\n",
    "    lisE.append(line[1]) \n",
    "    name.append(line[0])\n",
    "print(name)\n",
    "print(lisE)"
   ]
  },
  {
   "cell_type": "code",
   "execution_count": 13,
   "metadata": {},
   "outputs": [
    {
     "name": "stdout",
     "output_type": "stream",
     "text": [
      "['數學', '66', '73', '15', '82', '79', '15', '53', '5', '37', '38', '86', '89', '23', '24', '41', '47', '47', '70', '49', '58', '74', '86', '75', '94', '30', '70', '22', '34', '92', '21']\n"
     ]
    }
   ],
   "source": [
    "for line in fin_M.readlines():\n",
    "    line = line.strip().split(\",\")\n",
    "    #print(line)\n",
    "    lisM.append(line[1])\n",
    "print(lisM)"
   ]
  },
  {
   "cell_type": "code",
   "execution_count": 14,
   "metadata": {},
   "outputs": [
    {
     "name": "stdout",
     "output_type": "stream",
     "text": [
      "廖冠霖,142,\n",
      "王力中,124,\n",
      "張平舜,108,\n",
      "洪婷婷,128,\n",
      "林士雨,86,\n",
      "陳宗翰,28,\n",
      "洪偉珊,134,\n",
      "顏又芹,32,\n",
      "王亦夏,55,\n",
      "姚成華,77,\n",
      "潘詠月,144,\n",
      "倪浩迪,163,\n",
      "郭心怡,109,\n",
      "黃政聖,99,\n",
      "顏曉雲,135,\n",
      "彭曉雯,77,\n",
      "葉健仁,117,\n",
      "賴軒年,167,\n",
      "韓致遠,52,\n",
      "陳常芝,80,\n",
      "黃佩樺,108,\n",
      "林詩虹,178,\n",
      "黃心卿,96,\n",
      "郭奕全,101,\n",
      "游子揚,127,\n",
      "杜茜行,107,\n",
      "李美一,64,\n",
      "陳姿茜,77,\n",
      "涂珮瑜,134,\n",
      "夏明哲,111,\n",
      "\n"
     ]
    }
   ],
   "source": [
    "score=[]\n",
    "line=\"\"\n",
    "for i in range(1,len(lisE)):\n",
    "    score.append(int(lisE[i])+int(lisM[i]))\n",
    "#print(score)\n",
    "    list1 = [name[i],str(score[i-1]),\"\\n\"]\n",
    "    #print(name[i],str(score[i-1]))\n",
    "    line = line+\",\".join(list1) #變回字串\n",
    "print(line)"
   ]
  },
  {
   "attachments": {},
   "cell_type": "markdown",
   "metadata": {},
   "source": [
    "* 這邊卡很久！！！！\n",
    "每一次for迴圈執行完畢，要有一個地方讓他儲存以經跑完的i值"
   ]
  },
  {
   "cell_type": "code",
   "execution_count": 15,
   "metadata": {},
   "outputs": [],
   "source": [
    "fout = open(\"Score.csv\",\"w+\")\n",
    "fout.write(line)\n",
    "fin_E.close() #最後一定要關檔案\n",
    "fin_M.close()\n",
    "fout.close() "
   ]
  }
 ],
 "metadata": {
  "kernelspec": {
   "display_name": "Python 3",
   "language": "python",
   "name": "python3"
  },
  "language_info": {
   "codemirror_mode": {
    "name": "ipython",
    "version": 3
   },
   "file_extension": ".py",
   "mimetype": "text/x-python",
   "name": "python",
   "nbconvert_exporter": "python",
   "pygments_lexer": "ipython3",
   "version": "3.10.11"
  },
  "orig_nbformat": 4
 },
 "nbformat": 4,
 "nbformat_minor": 2
}
